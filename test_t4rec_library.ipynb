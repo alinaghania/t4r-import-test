{
  "cells": [
    {
      "cell_type": "raw",
      "metadata": {
        "vscode": {
          "languageId": "raw"
        }
      },
      "source": [
        "# Test de la Librairie T4Rec \n",
        "\n",
        "Ce notebook teste l'importation et l'utilisation de tous les modules de la librairie t4rec.\n",
        "\n"
      ]
    },
    {
      "cell_type": "raw",
      "metadata": {
        "vscode": {
          "languageId": "raw"
        }
      },
      "source": [
        "## 1. Configuration et Imports de Base\n",
        "\n",
        "Cette section configure l'environnement et importe les bibliothèques principales nécessaires.\n"
      ]
    },
    {
      "cell_type": "code",
      "execution_count": null,
      "metadata": {},
      "outputs": [],
      "source": [
        "# Import des bibliothèques principales\n",
        "import pandas as pd  # Pour manipuler les données tabulaires\n",
        "import numpy as np   # Pour les calculs numériques\n",
        "import torch        # Framework de deep learning\n",
        "import sys          # Pour modifier le path Python\n",
        "import os           # Pour les opérations sur les fichiers\n",
        "\n",
        "# Ajouter le dossier racine au path Python pour importer nos modules\n",
        "sys.path.append('.')\n",
        "\n",
        "print(\"Modules de base importés avec succès\")\n",
        "print(\"- pandas:\", pd.__version__)\n",
        "print(\"- numpy:\", np.__version__)\n",
        "print(\"- torch:\", torch.__version__)\n"
      ]
    },
    {
      "cell_type": "code",
      "execution_count": null,
      "metadata": {},
      "outputs": [],
      "source": [
        "# Import de tous les modules T4Rec depuis le dossier src\n",
        "# Ces modules contiennent toute la logique du système de recommandation\n",
        "\n",
        "from t4rec.data_generator import BankingDataGenerator          # Génère des données bancaires synthétiques\n",
        "from t4rec.data_preprocessor import BankingDataPreprocessor    # Traite les données pour l'entraînement\n",
        "from t4rec.transformer_model import BankingTransformerModel    # Modèle Transformer pour les recommandations\n",
        "from t4rec.model_trainer import BankingModelTrainer            # Entraîne le modèle\n",
        "from t4rec.recommendation_engine import RecommendationEngine   # Fait des prédictions\n",
        "\n",
        "print(\"Librairie T4Rec importée avec succès\")\n",
        "print(\"Modules disponibles:\")\n",
        "print(\"- BankingDataGenerator (génération de données)\")\n",
        "print(\"- BankingDataPreprocessor (preprocessing)\")\n",
        "print(\"- BankingTransformerModel (modèle Transformer)\")\n",
        "print(\"- BankingModelTrainer (entraînement)\")\n",
        "print(\"- RecommendationEngine (inférence)\")\n"
      ]
    },
    {
      "cell_type": "raw",
      "metadata": {
        "vscode": {
          "languageId": "raw"
        }
      },
      "source": [
        "## 2. Test de Génération de Données\n",
        "\n",
        "Le BankingDataGenerator crée des données bancaires synthétiques réalistes.\n",
        "Il simule des sessions de clients naviguant entre différents produits bancaires.\n"
      ]
    },
    {
      "cell_type": "code",
      "execution_count": null,
      "metadata": {},
      "outputs": [],
      "source": [
        "# Créer un générateur de données avec des paramètres réduits pour le test\n",
        "# Configuration :\n",
        "# - 50 clients uniques\n",
        "# - 10 produits bancaires différents  \n",
        "# - 100 sessions de navigation\n",
        "# - seed=42 pour la reproductibilité\n",
        "\n",
        "generator = BankingDataGenerator(\n",
        "    n_customers=50,      # Nombre de clients simulés\n",
        "    n_products=10,       # Nombre de produits bancaires (comptes, prêts, assurances...)\n",
        "    n_sessions=100,      # Nombre de sessions de navigation\n",
        "    seed=42              # Graine aléatoire pour des résultats reproductibles\n",
        ")\n",
        "\n",
        "print(\"BankingDataGenerator créé avec succès\")\n",
        "print(f\"Configuration: {generator.n_customers} clients, {generator.n_products} produits, {generator.n_sessions} sessions\")\n"
      ]
    },
    {
      "cell_type": "code",
      "execution_count": null,
      "metadata": {},
      "outputs": [],
      "source": [
        "# Générer les données d'interactions bancaires\n",
        "# Chaque ligne représente une interaction client-produit avec un timestamp\n",
        "\n",
        "df = generator.generate_transactions()\n",
        "\n",
        "print(f\"Données générées: {len(df):,} transactions\")\n",
        "print(f\"Colonnes créées: {list(df.columns)}\")\n",
        "print()\n",
        "print(\"Structure des données:\")\n",
        "print(\"- customer_id: Identifiant du client\")\n",
        "print(\"- item_id: Produit bancaire consulté/acheté\") \n",
        "print(\"- timestamp: Moment de l'interaction\")\n",
        "print(\"- session_id: Session de navigation\")\n",
        "print(\"- amount: Montant de la transaction\")\n",
        "print()\n",
        "print(\"Aperçu des premières lignes:\")\n",
        "df.head()\n"
      ]
    },
    {
      "cell_type": "raw",
      "metadata": {
        "vscode": {
          "languageId": "raw"
        }
      },
      "source": [
        "## 3. Test du Preprocessing\n",
        "\n",
        "Le BankingDataPreprocessor transforme les données brutes en séquences utilisables par le modèle.\n",
        "Il group les interactions par session et crée des séquences de produits consultés.\n"
      ]
    },
    {
      "cell_type": "code",
      "execution_count": null,
      "metadata": {},
      "outputs": [],
      "source": [
        "# Créer le preprocesseur avec une longueur de séquence maximale\n",
        "# max_seq_length=6 signifie que chaque séquence aura exactement 6 éléments\n",
        "# Les séquences plus courtes seront paddées avec des 0\n",
        "# Les séquences plus longues seront tronquées\n",
        "\n",
        "preprocessor = BankingDataPreprocessor(max_seq_length=6)\n",
        "print(\"BankingDataPreprocessor créé\")\n",
        "print(\"Longueur max des séquences:\", preprocessor.max_seq_length)\n",
        "\n",
        "# Sauvegarder les données pour pouvoir les recharger\n",
        "generator.save_data(df, \"data/test_data.parquet\")\n",
        "print(\"Données sauvegardées dans data/test_data.parquet\")\n",
        "\n",
        "# Charger les données dans le preprocesseur\n",
        "preprocessor.load_data(\"data/test_data.parquet\")\n",
        "print(\"Données chargées dans le preprocesseur\")\n",
        "print(f\"Nombre de lignes chargées: {len(preprocessor.data)}\")\n"
      ]
    },
    {
      "cell_type": "code",
      "execution_count": null,
      "metadata": {},
      "outputs": [],
      "source": [
        "# Convertir les interactions en séquences par session\n",
        "# Chaque session devient une séquence de produits consultés dans l'ordre chronologique\n",
        "\n",
        "sequences = preprocessor.create_sequences()\n",
        "print(f\"Séquences créées: {sequences.shape}\")\n",
        "print(\"Forme: (nombre_sessions, longueur_séquence)\")\n",
        "print()\n",
        "\n",
        "# Créer les paires input/target pour l'entraînement\n",
        "# Input: séquence sans le dernier élément [A, B, C, D, E]\n",
        "# Target: séquence sans le premier élément [B, C, D, E, F]\n",
        "# Le modèle apprend à prédire le prochain élément\n",
        "\n",
        "inputs, targets = preprocessor.create_training_pairs(sequences)\n",
        "print(f\"Paires d'entraînement créées:\")\n",
        "print(f\"- Inputs: {inputs.shape} (séquences d'entrée)\")\n",
        "print(f\"- Targets: {targets.shape} (séquences cibles)\")\n",
        "print()\n",
        "\n",
        "# Afficher quelques exemples pour comprendre\n",
        "print(\"Exemples de séquences (0 = padding):\")\n",
        "for i in range(3):\n",
        "    print(f\"Séquence {i+1}:\")\n",
        "    print(f\"  Input:  {inputs[i].numpy()} -> Target: {targets[i].numpy()}\")\n",
        "    print(f\"  Le modèle doit prédire chaque target à partir de l'input correspondant\")\n"
      ]
    },
    {
      "cell_type": "raw",
      "metadata": {
        "vscode": {
          "languageId": "raw"
        }
      },
      "source": [
        "## 4. Test du Modèle Transformer\n",
        "\n",
        "Le BankingTransformerModel utilise l'architecture Transformer pour comprendre les séquences.\n",
        "Il apprend les patterns dans les parcours clients pour prédire le prochain produit consulté.\n"
      ]
    },
    {
      "cell_type": "code",
      "execution_count": null,
      "metadata": {},
      "outputs": [],
      "source": [
        "# Créer le modèle Transformer avec des paramètres adaptés à nos données\n",
        "# Configuration :\n",
        "# - num_items=10 : nombre de produits bancaires (doit correspondre aux données)\n",
        "# - embedding_dim=16 : dimension des représentations vectorielles (plus petit pour le test)\n",
        "# - seq_length=6 : longueur des séquences (doit correspondre au preprocesseur)\n",
        "# - num_heads=2 : nombre de têtes d'attention (plus petit pour le test)\n",
        "# - num_layers=1 : nombre de couches Transformer (plus simple pour le test)\n",
        "\n",
        "model = BankingTransformerModel(\n",
        "    num_items=10,        # Nombre de produits bancaires\n",
        "    embedding_dim=16,    # Taille des embeddings (représentations vectorielles)\n",
        "    seq_length=6,        # Longueur des séquences\n",
        "    num_heads=2,         # Têtes d'attention (parallélisation)\n",
        "    num_layers=1         # Couches du Transformer\n",
        ")\n",
        "\n",
        "print(f\"Modèle Transformer créé\")\n",
        "print(f\"Nombre de paramètres: {model.count_parameters():,}\")\n",
        "print(\"Architecture:\")\n",
        "print(f\"- Embedding dimension: {model.embedding_dim}\")\n",
        "print(f\"- Nombre de têtes d'attention: {model.num_heads}\")\n",
        "print(f\"- Nombre de couches: {model.num_layers}\")\n",
        "\n",
        "# Test rapide du modèle avec quelques séquences\n",
        "# Un \"forward pass\" vérifie que le modèle fonctionne correctement\n",
        "test_input = inputs[:5]  # Prendre 5 séquences pour tester\n",
        "print(f\"Test avec {test_input.shape[0]} séquences...\")\n",
        "\n",
        "with torch.no_grad():  # Pas de calcul de gradients pour le test\n",
        "    output = model(test_input)\n",
        "    \n",
        "print(f\"Test réussi: {test_input.shape} -> {output.shape}\")\n",
        "print(\"Le modèle transforme les séquences d'input en prédictions de produits\")\n"
      ]
    },
    {
      "cell_type": "raw",
      "metadata": {
        "vscode": {
          "languageId": "raw"
        }
      },
      "source": [
        "## 5. Test de l'Entraînement\n",
        "\n",
        "Le BankingModelTrainer gère l'entraînement du modèle sur nos données.\n",
        "Il ajuste les paramètres du modèle pour qu'il apprenne à faire de bonnes prédictions.\n"
      ]
    },
    {
      "cell_type": "code",
      "execution_count": null,
      "metadata": {},
      "outputs": [],
      "source": [
        "# Créer l'entraîneur avec le modèle et les hyperparamètres\n",
        "# Configuration :\n",
        "# - learning_rate=0.001 : vitesse d'apprentissage (standard)\n",
        "# - batch_size=16 : nombre d'exemples traités ensemble (adapté à la taille des données)\n",
        "\n",
        "trainer = BankingModelTrainer(\n",
        "    model=model,            # Le modèle Transformer créé précédemment\n",
        "    learning_rate=0.001,    # Taux d'apprentissage (contrôle la vitesse d'adaptation)\n",
        "    batch_size=16          # Taille des lots pour l'entraînement\n",
        ")\n",
        "\n",
        "print(\"BankingModelTrainer créé\")\n",
        "print(f\"Taux d'apprentissage: {trainer.learning_rate}\")\n",
        "print(f\"Taille des batches: {trainer.batch_size}\")\n",
        "print(f\"Optimiseur: {type(trainer.optimizer).__name__}\")\n",
        "\n",
        "# Lancer l'entraînement sur nos données\n",
        "# Configuration de l'entraînement :\n",
        "# - epochs=2 : nombre de passages sur toutes les données (réduit pour le test)\n",
        "# - validation_split=0.2 : 20% des données réservées pour la validation\n",
        "\n",
        "print()\n",
        "print(\"Début de l'entraînement...\")\n",
        "print(\"Le modèle va apprendre à prédire le prochain produit dans une séquence\")\n",
        "\n",
        "trainer.train(\n",
        "    inputs=inputs,              # Séquences d'entrée\n",
        "    targets=targets,            # Séquences cibles\n",
        "    epochs=2,                   # Nombre d'itérations complètes\n",
        "    validation_split=0.2        # Proportion pour la validation\n",
        ")\n",
        "\n",
        "print()\n",
        "print(\"Entraînement terminé\")\n",
        "print(\"Le modèle a appris les patterns dans les données bancaires\")\n"
      ]
    },
    {
      "cell_type": "code",
      "execution_count": null,
      "metadata": {},
      "outputs": [],
      "source": [
        "# Sauvegarder le modèle entraîné pour usage futur\n",
        "# Le fichier contiendra tous les paramètres appris par le modèle\n",
        "\n",
        "model_path = \"models/test_model.pt\"\n",
        "trainer.save_model(model_path)\n",
        "\n",
        "print(f\"Modèle sauvegardé dans: {model_path}\")\n",
        "print(\"Ce fichier peut être chargé plus tard pour faire des prédictions\")\n",
        "print(\"sans avoir besoin de ré-entraîner le modèle\")\n"
      ]
    },
    {
      "cell_type": "raw",
      "metadata": {
        "vscode": {
          "languageId": "raw"
        }
      },
      "source": [
        "## 6. Test de l'Inférence (Prédictions)\n",
        "\n",
        "Le RecommendationEngine charge le modèle entraîné et fait des prédictions.\n",
        "Donner une séquence de produits consultés, il prédit les prochains produits susceptibles d'intéresser le client.\n"
      ]
    },
    {
      "cell_type": "code",
      "execution_count": null,
      "metadata": {},
      "outputs": [],
      "source": [
        "# Créer le moteur de recommandation en chargeant le modèle sauvegardé\n",
        "# Il va automatiquement charger les paramètres appris pendant l'entraînement\n",
        "\n",
        "engine = RecommendationEngine(model_path)\n",
        "print(\"RecommendationEngine créé et modèle chargé\")\n",
        "print(f\"Modèle chargé depuis: {model_path}\")\n",
        "print(\"Prêt à faire des prédictions sur de nouvelles séquences\")\n",
        "\n",
        "# Créer des séquences de test pour simuler différents profils de clients\n",
        "# Chaque liste représente l'historique de produits consultés par un client\n",
        "test_sequences = [\n",
        "    [1, 3, 7],           # Client ayant consulté les produits 1, 3, puis 7\n",
        "    [2, 5, 8, 4],        # Client avec un parcours plus long\n",
        "    [6, 1],              # Client avec un parcours court\n",
        "    [9, 3, 2, 7]         # Client avec un autre pattern\n",
        "]\n",
        "\n",
        "print()\n",
        "print(\"Test de prédictions sur différents profils clients:\")\n",
        "print(\"Pour chaque séquence, le modèle prédit les 3 produits les plus probables\")\n",
        "\n",
        "# Tester le moteur de prédiction sur chaque séquence\n",
        "for i, sequence in enumerate(test_sequences):\n",
        "    print(f\"\")\n",
        "    print(f\"Test {i+1}: Client ayant consulté {sequence}\")\n",
        "    \n",
        "    try:\n",
        "        # Demander les 3 meilleures prédictions\n",
        "        predictions = engine.predict(sequence, top_k=3)\n",
        "        \n",
        "        print(f\"  Prédictions (top 3 produits recommandés):\")\n",
        "        for rank, (item_id, probability) in enumerate(predictions, 1):\n",
        "            print(f\"    {rank}. Produit {item_id} - Probabilité: {probability:.1%}\")\n",
        "            \n",
        "    except Exception as e:\n",
        "        print(f\"  Erreur lors de la prédiction: {e}\")\n",
        "\n",
        "print()\n",
        "print(\"Test terminé - Le système peut maintenant recommander des produits bancaires\")\n"
      ]
    }
  ],
  "metadata": {
    "kernelspec": {
      "display_name": "bankai_py39",
      "language": "python",
      "name": "python3"
    },
    "language_info": {
      "codemirror_mode": {
        "name": "ipython",
        "version": 3
      },
      "file_extension": ".py",
      "mimetype": "text/x-python",
      "name": "python",
      "nbconvert_exporter": "python",
      "pygments_lexer": "ipython3",
      "version": "3.9.23"
    }
  },
  "nbformat": 4,
  "nbformat_minor": 2
}
